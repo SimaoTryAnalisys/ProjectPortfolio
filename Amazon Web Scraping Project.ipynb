{
 "cells": [
  {
   "cell_type": "code",
   "execution_count": 7,
   "id": "2f72a50c-09fa-4fe2-9862-e28d7eff6b24",
   "metadata": {},
   "outputs": [],
   "source": [
    "#import libraries\n",
    "\n",
    "from IPython.display import display, HTML\n",
    "from bs4 import BeautifulSoup\n",
    "import pandas as pd\n",
    "import re\n",
    "import pandas as pd\n",
    "import requests\n",
    "import smtplib\n",
    "import time\n",
    "import datetime"
   ]
  },
  {
   "cell_type": "code",
   "execution_count": 4,
   "id": "dd74f2b0-31b1-4e14-aca2-574f9cdad1c2",
   "metadata": {},
   "outputs": [
    {
     "name": "stderr",
     "output_type": "stream",
     "text": [
      "IOPub data rate exceeded.\n",
      "The Jupyter server will temporarily stop sending output\n",
      "to the client in order to avoid crashing it.\n",
      "To change this limit, set the config variable\n",
      "`--ServerApp.iopub_data_rate_limit`.\n",
      "\n",
      "Current values:\n",
      "ServerApp.iopub_data_rate_limit=1000000.0 (bytes/sec)\n",
      "ServerApp.rate_limit_window=3.0 (secs)\n",
      "\n"
     ]
    }
   ],
   "source": [
    "#Url\n",
    "URL = 'https://www.amazon.co.uk/AmazonBasics-Wireless-Mouse-Receiver-Black/dp/B005EJH6Z4?ref_=ast_sto_dp&th=1&psc=1'\n",
    "h = {'User-Agent': 'Mozilla/5.0 (Windows NT 10.0; Win64; x64; rv:125.0) Gecko/20100101 Firefox/125.0'}\n",
    "page = requests.get(URL, headers=h)\n",
    "soup = BeautifulSoup(page.content, 'html.parser')\n",
    "#soup = BeautifulSoup(soup.prettify(),'html.parser')\n",
    "print (soup)\n"
   ]
  },
  {
   "cell_type": "code",
   "execution_count": 5,
   "id": "c66f5cc0-1b44-439a-8830-838c092ff031",
   "metadata": {},
   "outputs": [],
   "source": [
    "product_title_element = soup.find(id='productTitle').get_text().strip().replace(' – Black', '')\n",
    "\n",
    "if product_title_element:\n",
    "    product_title = ('['+product_title_element+']')\n",
    "else:\n",
    "    print('Element with ID \"productTitle\" not found.')"
   ]
  },
  {
   "cell_type": "code",
   "execution_count": 6,
   "id": "6727f516-3df7-4f7f-8e08-e8becce0b6a1",
   "metadata": {},
   "outputs": [
    {
     "name": "stdout",
     "output_type": "stream",
     "text": [
      "[Amazon Basics Wireless Computer Mouse with USB Nano Receiver]\n"
     ]
    }
   ],
   "source": [
    "print(product_title)"
   ]
  },
  {
   "cell_type": "code",
   "execution_count": 7,
   "id": "521ce155-5229-4128-aa7a-a10c93fcd35b",
   "metadata": {},
   "outputs": [
    {
     "name": "stdout",
     "output_type": "stream",
     "text": [
      "9.78\n"
     ]
    }
   ],
   "source": [
    "price = soup.find(class_=\"aok-offscreen\").get_text().strip().replace('£','')\n",
    "print (price)"
   ]
  },
  {
   "cell_type": "code",
   "execution_count": 8,
   "id": "eca514fc-b89c-4cc9-ae03-aac3054812b9",
   "metadata": {},
   "outputs": [
    {
     "name": "stdout",
     "output_type": "stream",
     "text": [
      "4.5 out of 5 stars - 60,595 ratings\n"
     ]
    }
   ],
   "source": [
    "rating = (soup.find(class_='a-icon a-icon-star a-star-4-5 cm-cr-review-stars-spacing-big').get_text())+' - '+(soup.find(id='acrCustomerReviewText').get_text())\n",
    "print (rating)"
   ]
  },
  {
   "cell_type": "code",
   "execution_count": 9,
   "id": "bcfb7e60-a166-4167-abd4-6bbeda24a408",
   "metadata": {},
   "outputs": [
    {
     "name": "stdout",
     "output_type": "stream",
     "text": [
      "\n",
      "-- About this item --\n",
      "\n",
      ".Smooth, precise and affordable wireless optical 3-button mouse with USB-A nano receiver for laptop, desktop and netbook PCs\n",
      "\n",
      ".2.4 GHz wireless (not Bluetooth) provides a powerful, reliable connection\n",
      "\n",
      ".Nano-receiver stays in your PC USB port or stows conveniently inside the wireless mouse when not in use (note: Receiver is stored within the mouse from production and needs to be removed once opened)\n",
      "\n",
      ".Works with Windows 2000, XP, Vista, 7, and 8\n",
      "\n",
      ".10.08 x 5.79 x 3.99 cm; 62.65 Grams\n",
      "\n"
     ]
    }
   ],
   "source": [
    "#Scrape the discription\n",
    "\n",
    "description = soup.find(id=\"feature-bullets\").find_all(class_=\"a-list-item\")#.get_text().strip().split(\"›\")[0]\n",
    "print ('\\n-- About this item --\\n')\n",
    "for point in description:\n",
    "    point = point.get_text().strip()\n",
    "    print('.'+point+'\\n')\n",
    "#print (description)"
   ]
  },
  {
   "cell_type": "code",
   "execution_count": 10,
   "id": "59cb7148-e157-4211-9e93-222f0d73ed81",
   "metadata": {},
   "outputs": [
    {
     "name": "stdout",
     "output_type": "stream",
     "text": [
      "Black\n",
      "Blue\n",
      "Red\n"
     ]
    }
   ],
   "source": [
    "#Scrape the colors\n",
    "all_colorsx = soup.find(class_=\"a-unordered-list a-nostyle a-button-list a-declarative a-button-toggle-group a-horizontal a-spacing-top-micro swatches swatchesSquare imageSwatches\")\n",
    "all_colors = all_colorsx.find_all(class_=\"imgSwatch\")\n",
    "for color in all_colors:\n",
    "    print(color.get('alt'))"
   ]
  },
  {
   "cell_type": "code",
   "execution_count": 11,
   "id": "efeebc29-6e85-4167-b3e3-e72e4671954b",
   "metadata": {},
   "outputs": [
    {
     "name": "stdout",
     "output_type": "stream",
     "text": [
      "9.78\n",
      "11.08\n",
      "12.63\n"
     ]
    }
   ],
   "source": [
    "#Scrape the prices\n",
    "all_prices = soup.find(class_=\"a-unordered-list a-nostyle a-button-list a-declarative a-button-toggle-group a-horizontal a-spacing-top-micro swatches swatchesSquare imageSwatches\").get_text().strip().replace('\\n','').replace(' ','').split('£')[1:]\n",
    "#print (all_prices)\n",
    "for price in all_prices:\n",
    "    print (price)"
   ]
  },
  {
   "cell_type": "code",
   "execution_count": 12,
   "id": "0f2454da-6b53-4899-9a24-d32865a3fadd",
   "metadata": {},
   "outputs": [
    {
     "name": "stdout",
     "output_type": "stream",
     "text": [
      "Black,9.78\n",
      "Blue,11.08\n",
      "Red,12.63\n"
     ]
    }
   ],
   "source": [
    "for color,price in zip(all_colors, all_prices):\n",
    "    print(color.get('alt') +','+ price)        "
   ]
  },
  {
   "cell_type": "code",
   "execution_count": 21,
   "id": "124654ff-4eae-48f6-aab3-d05b75a0b1ba",
   "metadata": {},
   "outputs": [
    {
     "data": {
      "text/html": [
       "<div>\n",
       "<style scoped>\n",
       "    .dataframe tbody tr th:only-of-type {\n",
       "        vertical-align: middle;\n",
       "    }\n",
       "\n",
       "    .dataframe tbody tr th {\n",
       "        vertical-align: top;\n",
       "    }\n",
       "\n",
       "    .dataframe thead th {\n",
       "        text-align: right;\n",
       "    }\n",
       "</style>\n",
       "<table border=\"1\" class=\"dataframe\">\n",
       "  <thead>\n",
       "    <tr style=\"text-align: right;\">\n",
       "      <th></th>\n",
       "      <th>Color</th>\n",
       "      <th>Price</th>\n",
       "      <th>Day</th>\n",
       "    </tr>\n",
       "  </thead>\n",
       "  <tbody>\n",
       "    <tr>\n",
       "      <th>0</th>\n",
       "      <td>Black</td>\n",
       "      <td>9.78</td>\n",
       "      <td>2024-04-29</td>\n",
       "    </tr>\n",
       "    <tr>\n",
       "      <th>1</th>\n",
       "      <td>Blue</td>\n",
       "      <td>11.08</td>\n",
       "      <td>2024-04-29</td>\n",
       "    </tr>\n",
       "    <tr>\n",
       "      <th>2</th>\n",
       "      <td>Red</td>\n",
       "      <td>12.63</td>\n",
       "      <td>2024-04-29</td>\n",
       "    </tr>\n",
       "  </tbody>\n",
       "</table>\n",
       "</div>"
      ],
      "text/plain": [
       "   Color  Price         Day\n",
       "0  Black   9.78  2024-04-29\n",
       "1   Blue  11.08  2024-04-29\n",
       "2    Red  12.63  2024-04-29"
      ]
     },
     "metadata": {},
     "output_type": "display_data"
    },
    {
     "data": {
      "text/plain": [
       "<Axes: ylabel='Price'>"
      ]
     },
     "execution_count": 21,
     "metadata": {},
     "output_type": "execute_result"
    },
    {
     "data": {
      "image/png": "[encoded data removed]",
      "text/plain": [
       "<Figure size 640x480 with 1 Axes>"
      ]
     },
     "metadata": {},
     "output_type": "display_data"
    }
   ],
   "source": [
    "day = datetime.date.today()\n",
    "data = [{'Color': color.get('alt'), 'Price': float(price), 'Day': day} for color, price in zip(all_colors, all_prices)]\n",
    "\n",
    "df = pd.DataFrame(data)\n",
    "#df.set_index('Color', inplace=True)\n",
    "\n",
    "display(df)\n",
    "df.plot.bar(rot=0,xlabel='',ylabel='Price',legend=False)"
   ]
  },
  {
   "cell_type": "code",
   "execution_count": 14,
   "id": "f24671bb-3be9-4a89-82c5-8adb2d26e658",
   "metadata": {},
   "outputs": [
    {
     "data": {
      "text/html": [
       "<div>\n",
       "<style scoped>\n",
       "    .dataframe tbody tr th:only-of-type {\n",
       "        vertical-align: middle;\n",
       "    }\n",
       "\n",
       "    .dataframe tbody tr th {\n",
       "        vertical-align: top;\n",
       "    }\n",
       "\n",
       "    .dataframe thead th {\n",
       "        text-align: right;\n",
       "    }\n",
       "</style>\n",
       "<table border=\"1\" class=\"dataframe\">\n",
       "  <thead>\n",
       "    <tr style=\"text-align: right;\">\n",
       "      <th></th>\n",
       "    </tr>\n",
       "    <tr>\n",
       "      <th>Description</th>\n",
       "    </tr>\n",
       "  </thead>\n",
       "  <tbody>\n",
       "    <tr>\n",
       "      <th>Smooth, precise and affordable wireless optical 3-button mouse with USB-A nano receiver for laptop, desktop and netbook PCs</th>\n",
       "    </tr>\n",
       "    <tr>\n",
       "      <th>2.4 GHz wireless (not Bluetooth) provides a powerful, reliable connection</th>\n",
       "    </tr>\n",
       "    <tr>\n",
       "      <th>Nano-receiver stays in your PC USB port or stows conveniently inside the wireless mouse when not in use (note: Receiver is stored within the mouse from production and needs to be removed once opened)</th>\n",
       "    </tr>\n",
       "    <tr>\n",
       "      <th>Works with Windows 2000, XP, Vista, 7, and 8</th>\n",
       "    </tr>\n",
       "    <tr>\n",
       "      <th>10.08 x 5.79 x 3.99 cm; 62.65 Grams</th>\n",
       "    </tr>\n",
       "  </tbody>\n",
       "</table>\n",
       "</div>"
      ],
      "text/plain": [
       "Empty DataFrame\n",
       "Columns: []\n",
       "Index: [Smooth, precise and affordable wireless optical 3-button mouse with USB-A nano receiver for laptop, desktop and netbook PCs, 2.4 GHz wireless (not Bluetooth) provides a powerful, reliable connection, Nano-receiver stays in your PC USB port or stows conveniently inside the wireless mouse when not in use (note: Receiver is stored within the mouse from production and needs to be removed once opened), Works with Windows 2000, XP, Vista, 7, and 8, 10.08 x 5.79 x 3.99 cm; 62.65 Grams]"
      ]
     },
     "metadata": {},
     "output_type": "display_data"
    }
   ],
   "source": [
    "#Recreating the description\n",
    "#pd.set_option(\"display.colheader_justify\",\"right\")\n",
    "all_points_desc = list((point.get_text().strip()) for point in description)\n",
    "df_description = pd.DataFrame([{'Description':desc}for desc in all_points_desc])\n",
    "df_description.set_index('Description',inplace=True)\n",
    "#df_description.style.set_table_styles([{'selector': 'th', 'props': [('text-align', 'left')]}, {'selector': 'td', 'props': [('text-align', 'left')]}])\n",
    "display (df_description)"
   ]
  },
  {
   "cell_type": "code",
   "execution_count": 15,
   "id": "5002eaf4-9908-488a-ad15-33062fbfb478",
   "metadata": {},
   "outputs": [],
   "source": [
    "#Searched in gpt how to format the index on the left and how to make the title big\n",
    "\n",
    "styles = [\n",
    "    dict(selector=\"th\", props=[(\"text-align\", \"left\")]),  \n",
    "    dict(selector=\"th.row_heading\", props=[(\"text-align\", \"left\")]),  \n",
    "    dict(selector=\"td\", props=[(\"text-align\", \"left\")]) \n",
    "]\n",
    "\n",
    "df_description = df_description.style.set_table_styles(styles)\n",
    "\n",
    "rating2_html = f'<h4 style=\"text-align: center; font-weight: bold;\">{rating}</h4>'\n",
    "rating2 = HTML(rating2_html)\n",
    "\n",
    "title_html = f'<h2 style=\"text-align: center; font-weight: bold;\">{product_title}</h2>'\n",
    "title = HTML(title_html)"
   ]
  },
  {
   "cell_type": "code",
   "execution_count": 16,
   "id": "c3a8608b-005b-48dd-81c4-80f00da9abed",
   "metadata": {},
   "outputs": [],
   "source": []
  },
  {
   "cell_type": "code",
   "execution_count": 17,
   "id": "f374d983-7dda-4269-9ac8-5af13dedef54",
   "metadata": {},
   "outputs": [],
   "source": [
    "#Saving in a csv\n",
    "#df.to_csv(r'C:\\Users\\simao\\OneDrive\\Ambiente de Trabalho\\Amazon Mouse.csv', index=False)"
   ]
  },
  {
   "cell_type": "code",
   "execution_count": 22,
   "id": "6a6bf3c6-a81d-4d38-9b17-14fb543800ee",
   "metadata": {},
   "outputs": [
    {
     "data": {
      "text/html": [
       "<h2 style=\"text-align: center; font-weight: bold;\">[Amazon Basics Wireless Computer Mouse with USB Nano Receiver]</h2>"
      ],
      "text/plain": [
       "<IPython.core.display.HTML object>"
      ]
     },
     "metadata": {},
     "output_type": "display_data"
    },
    {
     "data": {
      "text/html": [
       "<h4 style=\"text-align: center; font-weight: bold;\">4.5 out of 5 stars - 60,595 ratings</h4>"
      ],
      "text/plain": [
       "<IPython.core.display.HTML object>"
      ]
     },
     "metadata": {},
     "output_type": "display_data"
    },
    {
     "data": {
      "text/html": [
       "<style type=\"text/css\">\n",
       "#T_77909 th {\n",
       "  text-align: left;\n",
       "}\n",
       "#T_77909 th.row_heading {\n",
       "  text-align: left;\n",
       "}\n",
       "#T_77909 td {\n",
       "  text-align: left;\n",
       "}\n",
       "</style>\n",
       "<table id=\"T_77909\">\n",
       "  <thead>\n",
       "    <tr>\n",
       "      <th class=\"index_name level0\" >Description</th>\n",
       "    </tr>\n",
       "  </thead>\n",
       "  <tbody>\n",
       "    <tr>\n",
       "      <th id=\"T_77909_level0_row0\" class=\"row_heading level0 row0\" >Smooth, precise and affordable wireless optical 3-button mouse with USB-A nano receiver for laptop, desktop and netbook PCs</th>\n",
       "    </tr>\n",
       "    <tr>\n",
       "      <th id=\"T_77909_level0_row1\" class=\"row_heading level0 row1\" >2.4 GHz wireless (not Bluetooth) provides a powerful, reliable connection</th>\n",
       "    </tr>\n",
       "    <tr>\n",
       "      <th id=\"T_77909_level0_row2\" class=\"row_heading level0 row2\" >Nano-receiver stays in your PC USB port or stows conveniently inside the wireless mouse when not in use (note: Receiver is stored within the mouse from production and needs to be removed once opened)</th>\n",
       "    </tr>\n",
       "    <tr>\n",
       "      <th id=\"T_77909_level0_row3\" class=\"row_heading level0 row3\" >Works with Windows 2000, XP, Vista, 7, and 8</th>\n",
       "    </tr>\n",
       "    <tr>\n",
       "      <th id=\"T_77909_level0_row4\" class=\"row_heading level0 row4\" >10.08 x 5.79 x 3.99 cm; 62.65 Grams</th>\n",
       "    </tr>\n",
       "  </tbody>\n",
       "</table>\n"
      ],
      "text/plain": [
       "<pandas.io.formats.style.Styler at 0x1a28b6afb90>"
      ]
     },
     "metadata": {},
     "output_type": "display_data"
    },
    {
     "data": {
      "text/html": [
       "<div>\n",
       "<style scoped>\n",
       "    .dataframe tbody tr th:only-of-type {\n",
       "        vertical-align: middle;\n",
       "    }\n",
       "\n",
       "    .dataframe tbody tr th {\n",
       "        vertical-align: top;\n",
       "    }\n",
       "\n",
       "    .dataframe thead th {\n",
       "        text-align: right;\n",
       "    }\n",
       "</style>\n",
       "<table border=\"1\" class=\"dataframe\">\n",
       "  <thead>\n",
       "    <tr style=\"text-align: right;\">\n",
       "      <th></th>\n",
       "      <th>Color</th>\n",
       "      <th>Price</th>\n",
       "      <th>Day</th>\n",
       "    </tr>\n",
       "  </thead>\n",
       "  <tbody>\n",
       "    <tr>\n",
       "      <th>0</th>\n",
       "      <td>Black</td>\n",
       "      <td>9.78</td>\n",
       "      <td>2024-04-29</td>\n",
       "    </tr>\n",
       "    <tr>\n",
       "      <th>1</th>\n",
       "      <td>Blue</td>\n",
       "      <td>11.08</td>\n",
       "      <td>2024-04-29</td>\n",
       "    </tr>\n",
       "    <tr>\n",
       "      <th>2</th>\n",
       "      <td>Red</td>\n",
       "      <td>12.63</td>\n",
       "      <td>2024-04-29</td>\n",
       "    </tr>\n",
       "  </tbody>\n",
       "</table>\n",
       "</div>"
      ],
      "text/plain": [
       "   Color  Price         Day\n",
       "0  Black   9.78  2024-04-29\n",
       "1   Blue  11.08  2024-04-29\n",
       "2    Red  12.63  2024-04-29"
      ]
     },
     "metadata": {},
     "output_type": "display_data"
    }
   ],
   "source": [
    "#Displaying everything\n",
    "\n",
    "display(title, rating2, df_description, df)"
   ]
  },
  {
   "cell_type": "code",
   "execution_count": 23,
   "id": "14cc2348-b552-44d4-be1e-392c3bf5a06d",
   "metadata": {},
   "outputs": [
    {
     "data": {
      "text/html": [
       "<div>\n",
       "<style scoped>\n",
       "    .dataframe tbody tr th:only-of-type {\n",
       "        vertical-align: middle;\n",
       "    }\n",
       "\n",
       "    .dataframe tbody tr th {\n",
       "        vertical-align: top;\n",
       "    }\n",
       "\n",
       "    .dataframe thead th {\n",
       "        text-align: right;\n",
       "    }\n",
       "</style>\n",
       "<table border=\"1\" class=\"dataframe\">\n",
       "  <thead>\n",
       "    <tr style=\"text-align: right;\">\n",
       "      <th></th>\n",
       "      <th>Color</th>\n",
       "      <th>Price</th>\n",
       "      <th>Day</th>\n",
       "    </tr>\n",
       "  </thead>\n",
       "  <tbody>\n",
       "    <tr>\n",
       "      <th>0</th>\n",
       "      <td>Black</td>\n",
       "      <td>9.78</td>\n",
       "      <td>2024-04-26</td>\n",
       "    </tr>\n",
       "    <tr>\n",
       "      <th>1</th>\n",
       "      <td>Blue</td>\n",
       "      <td>11.08</td>\n",
       "      <td>2024-04-26</td>\n",
       "    </tr>\n",
       "    <tr>\n",
       "      <th>2</th>\n",
       "      <td>Red</td>\n",
       "      <td>12.63</td>\n",
       "      <td>2024-04-26</td>\n",
       "    </tr>\n",
       "    <tr>\n",
       "      <th>0</th>\n",
       "      <td>Black</td>\n",
       "      <td>9.78</td>\n",
       "      <td>2024-04-29</td>\n",
       "    </tr>\n",
       "    <tr>\n",
       "      <th>1</th>\n",
       "      <td>Blue</td>\n",
       "      <td>11.08</td>\n",
       "      <td>2024-04-29</td>\n",
       "    </tr>\n",
       "    <tr>\n",
       "      <th>2</th>\n",
       "      <td>Red</td>\n",
       "      <td>12.63</td>\n",
       "      <td>2024-04-29</td>\n",
       "    </tr>\n",
       "  </tbody>\n",
       "</table>\n",
       "</div>"
      ],
      "text/plain": [
       "   Color  Price         Day\n",
       "0  Black   9.78  2024-04-26\n",
       "1   Blue  11.08  2024-04-26\n",
       "2    Red  12.63  2024-04-26\n",
       "0  Black   9.78  2024-04-29\n",
       "1   Blue  11.08  2024-04-29\n",
       "2    Red  12.63  2024-04-29"
      ]
     },
     "metadata": {},
     "output_type": "display_data"
    }
   ],
   "source": [
    "#Now I can append new data\n",
    "csv = pd.read_csv(r\"C:\\Users\\simao\\OneDrive\\Ambiente de Trabalho\\Amazon Mouse.csv\")\n",
    "new_csv = pd.concat([csv,df])\n",
    "display (new_csv)\n",
    "new_csv.to_csv(r'C:\\Users\\simao\\OneDrive\\Ambiente de Trabalho\\Amazon Mouse.csv', index=False)"
   ]
  },
  {
   "cell_type": "code",
   "execution_count": 5,
   "id": "bd2cdfbe-adcc-4fc3-8b73-c7f222cfcc99",
   "metadata": {},
   "outputs": [],
   "source": [
    "#Working in some automation\n",
    "def mouse_price():\n",
    "    from bs4 import BeautifulSoup\n",
    "    import pandas as pd\n",
    "    import pandas as pd\n",
    "    import requests\n",
    "    import datetime\n",
    "    URL = 'https://www.amazon.co.uk/AmazonBasics-Wireless-Mouse-Receiver-Black/dp/B005EJH6Z4?ref_=ast_sto_dp&th=1&psc=1'\n",
    "    h = {'User-Agent': 'Mozilla/5.0 (Windows NT 10.0; Win64; x64; rv:125.0) Gecko/20100101 Firefox/125.0'}\n",
    "    page = requests.get(URL, headers=h)\n",
    "    soup = BeautifulSoup(page.content, 'html.parser')\n",
    "\n",
    "    all_colorsx = soup.find(class_=\"a-unordered-list a-nostyle a-button-list a-declarative a-button-toggle-group a-horizontal a-spacing-top-micro swatches swatchesSquare imageSwatches\")\n",
    "    all_colors = all_colorsx.find_all(class_=\"imgSwatch\")\n",
    "    all_prices = soup.find(class_=\"a-unordered-list a-nostyle a-button-list a-declarative a-button-toggle-group a-horizontal a-spacing-top-micro swatches swatchesSquare imageSwatches\").get_text().strip().replace('\\n','').replace(' ','').split('£')[1:]\n",
    "    \n",
    "    day = datetime.date.today()\n",
    "    data = [{'Color': color.get('alt'), 'Price': float(price), 'Day': day} for color, price in zip(all_colors, all_prices)]\n",
    "\n",
    "    df = pd.DataFrame(data)\n",
    "        \n",
    "    \n",
    "    csv = pd.read_csv(r\"C:\\Users\\simao\\OneDrive\\Ambiente de Trabalho\\Amazon Mouse.csv\")\n",
    "    new_csv = pd.concat([csv,df])\n",
    "    new_csv.to_csv(r'C:\\Users\\simao\\OneDrive\\Ambiente de Trabalho\\Amazon Mouse.csv', index=False)"
   ]
  },
  {
   "cell_type": "code",
   "execution_count": null,
   "id": "7f7caf50-b5d7-4eb0-b514-a84fd55b2653",
   "metadata": {},
   "outputs": [],
   "source": [
    "#Now with this, every 2 days, I will have the new price on the table\n",
    "while (True):\n",
    "    mouse_price()\n",
    "    time.sleep(172800)"
   ]
  },
  {
   "cell_type": "code",
   "execution_count": null,
   "id": "02cbe785-c86a-4bc6-9bb3-336e0546d4cb",
   "metadata": {},
   "outputs": [],
   "source": []
  },
  {
   "cell_type": "code",
   "execution_count": null,
   "id": "8ab3449c-98d1-4d28-8de6-225a73d24b2a",
   "metadata": {},
   "outputs": [],
   "source": []
  },
  {
   "cell_type": "code",
   "execution_count": null,
   "id": "8347fd1c-2497-4d28-b9f5-b6cdde29d2b5",
   "metadata": {},
   "outputs": [],
   "source": []
  },
  {
   "cell_type": "code",
   "execution_count": null,
   "id": "fb53f73c-2945-4713-8592-70bf5bdb8e06",
   "metadata": {},
   "outputs": [],
   "source": []
  },
  {
   "cell_type": "code",
   "execution_count": null,
   "id": "bce57415-6426-495c-beb7-0a815d5a3ed8",
   "metadata": {},
   "outputs": [],
   "source": []
  },
  {
   "cell_type": "code",
   "execution_count": null,
   "id": "c9f71acf-9cbf-46d6-a7f7-14e5b2f302c2",
   "metadata": {},
   "outputs": [],
   "source": []
  },
  {
   "cell_type": "code",
   "execution_count": null,
   "id": "83beaca3-36f7-4462-86e8-1a4fec57c070",
   "metadata": {},
   "outputs": [],
   "source": []
  },
  {
   "cell_type": "code",
   "execution_count": null,
   "id": "375c3b6d-7d79-40df-ab7e-2bab8b32ae18",
   "metadata": {},
   "outputs": [],
   "source": []
  },
  {
   "cell_type": "code",
   "execution_count": null,
   "id": "55ee2eb2-9570-4920-932a-e79ff92209ea",
   "metadata": {},
   "outputs": [],
   "source": []
  },
  {
   "cell_type": "code",
   "execution_count": null,
   "id": "cbe41e84-50fb-4255-a080-93f5d34fea41",
   "metadata": {},
   "outputs": [],
   "source": []
  },
  {
   "cell_type": "code",
   "execution_count": null,
   "id": "c4499fec-39a9-4cca-b626-431c4656876c",
   "metadata": {},
   "outputs": [],
   "source": []
  },
  {
   "cell_type": "code",
   "execution_count": null,
   "id": "8f0a1cd1-db74-4dfe-8754-eb2a2fc1e04c",
   "metadata": {},
   "outputs": [],
   "source": []
  },
  {
   "cell_type": "code",
   "execution_count": null,
   "id": "cb1da460-ee2a-41d8-a530-4439946a9d9e",
   "metadata": {},
   "outputs": [],
   "source": []
  },
  {
   "cell_type": "code",
   "execution_count": null,
   "id": "57039da7-ff7d-40e0-90e3-b368b64931d7",
   "metadata": {},
   "outputs": [],
   "source": []
  },
  {
   "cell_type": "code",
   "execution_count": null,
   "id": "e4b96492-1f4c-41b4-90f4-104d855ad59e",
   "metadata": {},
   "outputs": [],
   "source": []
  },
  {
   "cell_type": "code",
   "execution_count": null,
   "id": "d084d823-9c7b-42a3-85f7-64e8d7fa2f58",
   "metadata": {},
   "outputs": [],
   "source": []
  },
  {
   "cell_type": "code",
   "execution_count": null,
   "id": "e15cee59-5175-42da-afb5-e032a0a1c700",
   "metadata": {},
   "outputs": [],
   "source": []
  },
  {
   "cell_type": "code",
   "execution_count": null,
   "id": "176c4bfb-727d-42bb-915f-256514f6b160",
   "metadata": {},
   "outputs": [],
   "source": []
  },
  {
   "cell_type": "code",
   "execution_count": null,
   "id": "8ae8a5f6-188c-466c-ae2f-11b5febb87f9",
   "metadata": {},
   "outputs": [],
   "source": []
  },
  {
   "cell_type": "code",
   "execution_count": null,
   "id": "7f029382-e9f7-41ee-89ac-d32316d31b7c",
   "metadata": {},
   "outputs": [],
   "source": []
  },
  {
   "cell_type": "code",
   "execution_count": null,
   "id": "9ab0df9d-c926-4114-9d9d-497e2ae9de64",
   "metadata": {},
   "outputs": [],
   "source": []
  },
  {
   "cell_type": "code",
   "execution_count": null,
   "id": "97a9addb-9d81-4680-8882-1c5f76e3b225",
   "metadata": {},
   "outputs": [],
   "source": []
  },
  {
   "cell_type": "code",
   "execution_count": null,
   "id": "2075aed7-7c20-4540-8ebe-7985572a953b",
   "metadata": {},
   "outputs": [],
   "source": []
  },
  {
   "cell_type": "code",
   "execution_count": null,
   "id": "29a4e503-b382-41fd-80e0-d07ceff8855b",
   "metadata": {},
   "outputs": [],
   "source": []
  },
  {
   "cell_type": "code",
   "execution_count": null,
   "id": "c3fb8a58-040f-4910-99f2-9d13ed10b23e",
   "metadata": {},
   "outputs": [],
   "source": []
  },
  {
   "cell_type": "code",
   "execution_count": null,
   "id": "0647dfb2-bc67-4d3b-94cb-2ea5d84b3ee3",
   "metadata": {},
   "outputs": [],
   "source": []
  },
  {
   "cell_type": "code",
   "execution_count": null,
   "id": "23cc4dbd-e727-43f2-a28b-16d59816908c",
   "metadata": {},
   "outputs": [],
   "source": []
  },
  {
   "cell_type": "code",
   "execution_count": null,
   "id": "5b9734c8-b213-4c2f-8137-62dff88f75f6",
   "metadata": {},
   "outputs": [],
   "source": []
  },
  {
   "cell_type": "code",
   "execution_count": null,
   "id": "6e8ca81e-7874-46f5-a5eb-6a06c5ad4a74",
   "metadata": {},
   "outputs": [],
   "source": []
  },
  {
   "cell_type": "code",
   "execution_count": null,
   "id": "f6ebcd3c-b75c-42c8-a78b-27dc7fb6f3bd",
   "metadata": {},
   "outputs": [],
   "source": []
  },
  {
   "cell_type": "code",
   "execution_count": null,
   "id": "c1e75720-761a-4318-b6ce-9e5876411372",
   "metadata": {},
   "outputs": [],
   "source": []
  }
 ],
 "metadata": {
  "kernelspec": {
   "display_name": "Python 3 (ipykernel)",
   "language": "python",
   "name": "python3"
  },
  "language_info": {
   "codemirror_mode": {
    "name": "ipython",
    "version": 3
   },
   "file_extension": ".py",
   "mimetype": "text/x-python",
   "name": "python",
   "nbconvert_exporter": "python",
   "pygments_lexer": "ipython3",
   "version": "3.11.7"
  }
 },
 "nbformat": 4,
 "nbformat_minor": 5
}
