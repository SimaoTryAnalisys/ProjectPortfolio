{
 "cells": [
  {
   "cell_type": "code",
   "execution_count": 8,
   "id": "28c3a83b-faa1-4f08-b16e-b422fdfc0af5",
   "metadata": {},
   "outputs": [],
   "source": [
    "import os, shutil"
   ]
  },
  {
   "cell_type": "code",
   "execution_count": 9,
   "id": "73705373-ebfb-4822-a0ed-e6b9315c3bb3",
   "metadata": {},
   "outputs": [],
   "source": [
    "path = r\"C:/Users/simao/OneDrive/Ambiente de Trabalho/Nova pasta/\""
   ]
  },
  {
   "cell_type": "code",
   "execution_count": 17,
   "id": "6f9f8145-5484-4a93-b8af-82cfb314c47b",
   "metadata": {},
   "outputs": [
    {
     "data": {
      "text/plain": [
       "['2.png',\n",
       " 'excel files',\n",
       " 'Novo Documento de Texto.txt',\n",
       " 'Novo Folha de Cálculo do Microsoft Excel.xlsx',\n",
       " 'png files',\n",
       " 'txt files']"
      ]
     },
     "execution_count": 17,
     "metadata": {},
     "output_type": "execute_result"
    }
   ],
   "source": [
    "os.listdir(path)"
   ]
  },
  {
   "cell_type": "code",
   "execution_count": 11,
   "id": "d5ca0d8d-bc8b-43e5-9dc2-5678db79f1b6",
   "metadata": {},
   "outputs": [
    {
     "data": {
      "text/plain": [
       "False"
      ]
     },
     "execution_count": 11,
     "metadata": {},
     "output_type": "execute_result"
    }
   ],
   "source": [
    "os.path.exists (path+'csv files')"
   ]
  },
  {
   "cell_type": "code",
   "execution_count": 13,
   "id": "cafcc12f-e0ec-4d9d-9672-671efe9ccdd2",
   "metadata": {},
   "outputs": [
    {
     "name": "stdout",
     "output_type": "stream",
     "text": [
      "C:/Users/simao/OneDrive/Ambiente de Trabalho/Nova pasta/excel files\n",
      "C:/Users/simao/OneDrive/Ambiente de Trabalho/Nova pasta/txt files\n",
      "C:/Users/simao/OneDrive/Ambiente de Trabalho/Nova pasta/png files\n"
     ]
    }
   ],
   "source": [
    "folders = ['excel files','txt files','png files']\n",
    "for fold in folders:\n",
    "    #print (path+fold)\n",
    "    if not os.path.exists (path+fold):\n",
    "        os.makedirs(path + fold)"
   ]
  },
  {
   "cell_type": "code",
   "execution_count": 14,
   "id": "7f81c1cf-3af2-4c11-9a5b-96a650f51754",
   "metadata": {},
   "outputs": [
    {
     "data": {
      "text/plain": [
       "'C:/Users/simao/OneDrive/Ambiente de Trabalho/Nova pasta/png files\\\\1.png'"
      ]
     },
     "execution_count": 14,
     "metadata": {},
     "output_type": "execute_result"
    }
   ],
   "source": [
    "original1=\"C:/Users/simao/OneDrive/Ambiente de Trabalho/Nova pasta/1.png\"\n",
    "\n",
    "shutil.move(original1,'C:/Users/simao/OneDrive/Ambiente de Trabalho/Nova pasta/png files')"
   ]
  },
  {
   "cell_type": "code",
   "execution_count": 99,
   "id": "2df6d3d7-4398-4479-b7d9-faca9e5ccd47",
   "metadata": {},
   "outputs": [],
   "source": [
    "all_files = os.listdir(path)"
   ]
  },
  {
   "cell_type": "code",
   "execution_count": 100,
   "id": "82f7a9c0-c955-4c78-8036-d726e707a7e8",
   "metadata": {},
   "outputs": [
    {
     "name": "stdout",
     "output_type": "stream",
     "text": [
      "['excel files', 'png files', 'txt files']\n"
     ]
    }
   ],
   "source": [
    "print (all_files)"
   ]
  },
  {
   "cell_type": "code",
   "execution_count": 101,
   "id": "e5c6faa5-8a47-4b98-87e2-3ba8fead13b9",
   "metadata": {},
   "outputs": [],
   "source": [
    "all_files_filtered = [file for file in all_files if not file.endswith('files')]"
   ]
  },
  {
   "cell_type": "code",
   "execution_count": 102,
   "id": "2c375d82-101f-497b-9c0c-6d5eaef8a81b",
   "metadata": {},
   "outputs": [
    {
     "name": "stdout",
     "output_type": "stream",
     "text": [
      "[]\n"
     ]
    }
   ],
   "source": [
    "print (all_files_filtered)"
   ]
  },
  {
   "cell_type": "code",
   "execution_count": 48,
   "id": "0c60f304-2f63-437e-bb39-f13a21f458c2",
   "metadata": {},
   "outputs": [],
   "source": [
    "dict_files = {'.png':'png files', '.txt':'txt files', '.xlsx': 'excel files'}"
   ]
  },
  {
   "cell_type": "code",
   "execution_count": 103,
   "id": "b62d1254-a758-4280-b758-14934fda8be2",
   "metadata": {},
   "outputs": [],
   "source": [
    "for file in all_files_filtered:\n",
    "    extension = os.path.splitext(file)[1] \n",
    "    folder = dict_files.get(extension)\n",
    "    if folder:\n",
    "        shutil.move(os.path.join(path, file), os.path.join(path, folder))\n",
    "    else: 'END'"
   ]
  },
  {
   "cell_type": "code",
   "execution_count": null,
   "id": "dfca4bf3-49dc-4ad7-805c-e0b807cc057d",
   "metadata": {},
   "outputs": [],
   "source": []
  }
 ],
 "metadata": {
  "kernelspec": {
   "display_name": "Python 3 (ipykernel)",
   "language": "python",
   "name": "python3"
  },
  "language_info": {
   "codemirror_mode": {
    "name": "ipython",
    "version": 3
   },
   "file_extension": ".py",
   "mimetype": "text/x-python",
   "name": "python",
   "nbconvert_exporter": "python",
   "pygments_lexer": "ipython3",
   "version": "3.11.7"
  }
 },
 "nbformat": 4,
 "nbformat_minor": 5
}
